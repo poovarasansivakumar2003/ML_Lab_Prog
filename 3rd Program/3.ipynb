{
 "cells": [
  {
   "cell_type": "markdown",
   "id": "9b3a863f",
   "metadata": {},
   "source": [
    "## 🚀 Program 3\n",
    "\n",
    "### 📋 Objective\n",
    "\n",
    "##### Write a program to demonstrate the working of the decision tree based ID3 algorithm. Use an appropriate data set for building the decision tree and apply this knowledge to classify a new sample. "
   ]
  },
  {
   "cell_type": "code",
   "execution_count": 10,
   "id": "933f954e",
   "metadata": {},
   "outputs": [],
   "source": [
    "# Import necessary libraries\n",
    "import pandas as pd\n",
    "import math\n",
    "from collections import Counter"
   ]
  },
  {
   "cell_type": "code",
   "execution_count": 11,
   "id": "c92241d3",
   "metadata": {},
   "outputs": [],
   "source": [
    "# Read the dataset\n",
    "df = pd.read_csv(\"tennis.csv\")"
   ]
  },
  {
   "cell_type": "code",
   "execution_count": 12,
   "id": "1c2d9219",
   "metadata": {},
   "outputs": [],
   "source": [
    "# Extract features and data from the DataFrame\n",
    "features = list(df.columns[:-1])\n",
    "data = df.values.tolist()"
   ]
  },
  {
   "cell_type": "code",
   "execution_count": 13,
   "id": "490aae4c",
   "metadata": {},
   "outputs": [],
   "source": [
    "# Function to calculate the entropy of a dataset\n",
    "def entropy(rows):\n",
    "    labels = [row[-1] for row in rows]\n",
    "    counts = Counter(labels)\n",
    "    total = len(labels)\n",
    "    return -sum((c/total)*math.log2(c/total) for c in counts.values())"
   ]
  },
  {
   "cell_type": "code",
   "execution_count": 14,
   "id": "02db5d29",
   "metadata": {},
   "outputs": [],
   "source": [
    "# Function to calculate the information gain of a feature\n",
    "def info_gain(rows, idx):\n",
    "    total = entropy(rows)\n",
    "    vals = set(row[idx] for row in rows)\n",
    "    splits = [[row for row in rows if row[idx]==v] for v in vals]\n",
    "    weighted = sum(len(s)/len(rows)*entropy(s) for s in splits)\n",
    "    return total - weighted"
   ]
  },
  {
   "cell_type": "code",
   "execution_count": 15,
   "id": "1242323a",
   "metadata": {},
   "outputs": [],
   "source": [
    "# Function to build the decision tree using ID3 algorithm\n",
    "def id3(rows, feats):\n",
    "    labels = [row[-1] for row in rows]\n",
    "    if labels.count(labels[0]) == len(labels): return labels[0]\n",
    "    if not feats: return Counter(labels).most_common(1)[0][0]\n",
    "    gains = [info_gain(rows, i) for i in range(len(feats))]\n",
    "    best = gains.index(max(gains))\n",
    "    tree = {feats[best]: {}}\n",
    "    vals = set(row[best] for row in rows)\n",
    "    for v in vals:\n",
    "        sub = [row[:best]+row[best+1:] for row in rows if row[best]==v]\n",
    "        sub_feats = feats[:best]+feats[best+1:]\n",
    "        tree[feats[best]][v] = id3(sub, sub_feats)\n",
    "    return tree"
   ]
  },
  {
   "cell_type": "code",
   "execution_count": 16,
   "id": "d68c9540",
   "metadata": {},
   "outputs": [],
   "source": [
    "# Build the decision tree\n",
    "def classify(tree, feats, sample):\n",
    "    if not isinstance(tree, dict): return tree\n",
    "    attr = next(iter(tree))\n",
    "    idx = feats.index(attr)\n",
    "    val = sample[idx]\n",
    "    subtree = tree[attr].get(val, \"Unknown\")\n",
    "    if isinstance(subtree, dict):\n",
    "        return classify(subtree, feats, sample)\n",
    "    return subtree"
   ]
  },
  {
   "cell_type": "code",
   "execution_count": 17,
   "id": "df92911a",
   "metadata": {},
   "outputs": [
    {
     "name": "stdout",
     "output_type": "stream",
     "text": [
      "Decision Tree: {'Outlook': {'Overcast': 'Yes', 'Rain': {'Wind': {'Weak': 'Yes', 'Strong': 'No'}}, 'Sunny': {'Humidity': {'High': 'No', 'Normal': 'Yes'}}}}\n"
     ]
    }
   ],
   "source": [
    "# Print the decision tree\n",
    "print(\"Decision Tree:\", id3(data, features))"
   ]
  },
  {
   "cell_type": "code",
   "execution_count": 18,
   "id": "b365d9af",
   "metadata": {},
   "outputs": [
    {
     "name": "stdout",
     "output_type": "stream",
     "text": [
      "Sample: ['Sunny', 'Cool', 'High', 'Strong']\n",
      "Predicted: No\n"
     ]
    }
   ],
   "source": [
    "# Predict a sample\n",
    "sample = ['Sunny', 'Cool', 'High', 'Strong']\n",
    "print(\"Sample:\", sample)\n",
    "print(\"Predicted:\", classify(id3(data, features), features, sample))"
   ]
  }
 ],
 "metadata": {
  "kernelspec": {
   "display_name": "myenv",
   "language": "python",
   "name": "python3"
  },
  "language_info": {
   "codemirror_mode": {
    "name": "ipython",
    "version": 3
   },
   "file_extension": ".py",
   "mimetype": "text/x-python",
   "name": "python",
   "nbconvert_exporter": "python",
   "pygments_lexer": "ipython3",
   "version": "3.11.9"
  }
 },
 "nbformat": 4,
 "nbformat_minor": 5
}
