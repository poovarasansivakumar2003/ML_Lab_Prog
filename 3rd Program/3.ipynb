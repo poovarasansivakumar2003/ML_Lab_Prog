{
 "cells": [
  {
   "cell_type": "markdown",
   "id": "9b3a863f",
   "metadata": {},
   "source": [
    "## 🚀 Program 3\n",
    "\n",
    "### 📋 Objective\n",
    "\n",
    "##### Write a program to demonstrate the working of the decision tree based ID3 algorithm. Use an appropriate data set for building the decision tree and apply this knowledge to classify a new sample. "
   ]
  },
  {
   "cell_type": "code",
   "execution_count": null,
   "id": "04b6a762",
   "metadata": {},
   "outputs": [],
   "source": [
    "# Import necessary libraries\n",
    "import pandas as pd\n",
    "import math\n",
    "from collections import Counter"
   ]
  },
  {
   "cell_type": "code",
   "execution_count": 37,
   "id": "3c1fcd27",
   "metadata": {},
   "outputs": [],
   "source": [
    "# Load dataset\n",
    "df = pd.read_csv(\"tennis.csv\")\n",
    "features = list(df.columns[:-1])\n",
    "data = df.values.tolist()"
   ]
  },
  {
   "cell_type": "code",
   "execution_count": 38,
   "id": "7ea3a06f",
   "metadata": {},
   "outputs": [],
   "source": [
    "# Calculate entropy of the dataset\n",
    "def entropy(rows):\n",
    "    labels = [row[-1] for row in rows]\n",
    "    total = len(labels)\n",
    "    counts = Counter(labels)\n",
    "    return -sum((c / total) * math.log2(c / total) for c in counts.values())"
   ]
  },
  {
   "cell_type": "code",
   "execution_count": 39,
   "id": "56c488a7",
   "metadata": {},
   "outputs": [],
   "source": [
    "# Split data by attribute value\n",
    "def split(rows, index):\n",
    "    splits = {}\n",
    "    for row in rows:\n",
    "        key = row[index]\n",
    "        splits.setdefault(key, []).append(row)\n",
    "    return splits"
   ]
  },
  {
   "cell_type": "code",
   "execution_count": 40,
   "id": "fd2df49c",
   "metadata": {},
   "outputs": [],
   "source": [
    "# Information Gain\n",
    "def info_gain(rows, index):\n",
    "    total_entropy = entropy(rows)\n",
    "    splits = split(rows, index)\n",
    "    weighted_entropy = sum((len(s) / len(rows)) * entropy(s) for s in splits.values())\n",
    "    return total_entropy - weighted_entropy"
   ]
  },
  {
   "cell_type": "code",
   "execution_count": 41,
   "id": "78258b22",
   "metadata": {},
   "outputs": [],
   "source": [
    "# ID3 algorithm\n",
    "def id3(rows, feature_names):\n",
    "    labels = [row[-1] for row in rows]\n",
    "    if labels.count(labels[0]) == len(labels):  # Pure node\n",
    "        return labels[0]\n",
    "    if not feature_names:  # No features left\n",
    "        return Counter(labels).most_common(1)[0][0]\n",
    "\n",
    "    # Best feature selection\n",
    "    gains = [info_gain(rows, i) for i in range(len(feature_names))]\n",
    "    best_idx = gains.index(max(gains))\n",
    "    best_feat = feature_names[best_idx]\n",
    "\n",
    "    tree = {best_feat: {}}\n",
    "    splits = split(rows, best_idx)\n",
    "\n",
    "    for val, subset in splits.items():\n",
    "        new_features = feature_names[:best_idx] + feature_names[best_idx+1:]\n",
    "        reduced_subset = [row[:best_idx] + row[best_idx+1:] for row in subset]\n",
    "        tree[best_feat][val] = id3(reduced_subset, new_features)\n",
    "\n",
    "    return tree"
   ]
  },
  {
   "cell_type": "code",
   "execution_count": 42,
   "id": "721ed3b1",
   "metadata": {},
   "outputs": [],
   "source": [
    "# Print the decision tree\n",
    "def print_tree(tree, indent=\"\"):\n",
    "    if isinstance(tree, dict):\n",
    "        attr = next(iter(tree))\n",
    "        for val, subtree in tree[attr].items():\n",
    "            print(f\"{indent}|-- {attr} = {val}\")\n",
    "            print_tree(subtree, indent + \"   \")\n",
    "    else:\n",
    "        print(f\"{indent}--> {tree}\")"
   ]
  },
  {
   "cell_type": "code",
   "execution_count": 43,
   "id": "4346739e",
   "metadata": {},
   "outputs": [],
   "source": [
    "# Classify a new sample\n",
    "def classify(tree, features, sample):\n",
    "    if isinstance(tree, dict):\n",
    "        attr = next(iter(tree))\n",
    "        idx = features.index(attr)\n",
    "        val = sample[idx]\n",
    "        subtree = tree[attr].get(val)\n",
    "        if subtree is None:\n",
    "            return \"Unknown\"\n",
    "        return classify(subtree, features, sample)\n",
    "    return tree"
   ]
  },
  {
   "cell_type": "code",
   "execution_count": 44,
   "id": "77f11227",
   "metadata": {},
   "outputs": [
    {
     "name": "stdout",
     "output_type": "stream",
     "text": [
      "=== Decision Tree ===\n",
      "|-- Outlook = Sunny\n",
      "   |-- Humidity = High\n",
      "      --> No\n",
      "   |-- Humidity = Normal\n",
      "      --> Yes\n",
      "|-- Outlook = Overcast\n",
      "   --> Yes\n",
      "|-- Outlook = Rain\n",
      "   |-- Wind = Weak\n",
      "      --> Yes\n",
      "   |-- Wind = Strong\n",
      "      --> No\n"
     ]
    }
   ],
   "source": [
    "# Build and print the decision tree\n",
    "tree = id3(data, features)\n",
    "print(\"=== Decision Tree ===\")\n",
    "print_tree(tree)"
   ]
  },
  {
   "cell_type": "code",
   "execution_count": 45,
   "id": "031a243a",
   "metadata": {},
   "outputs": [
    {
     "name": "stdout",
     "output_type": "stream",
     "text": [
      "\n",
      "New Sample: ['Sunny', 'Cool', 'High', 'Strong']\n",
      "Predicted Class: No\n"
     ]
    }
   ],
   "source": [
    "# Classify a new sample\n",
    "sample = ['Sunny', 'Cool', 'High', 'Strong']\n",
    "prediction = classify(tree, features, sample)\n",
    "print(\"\\nNew Sample:\", sample)\n",
    "print(\"Predicted Class:\", prediction)"
   ]
  }
 ],
 "metadata": {
  "kernelspec": {
   "display_name": "myenv",
   "language": "python",
   "name": "python3"
  },
  "language_info": {
   "codemirror_mode": {
    "name": "ipython",
    "version": 3
   },
   "file_extension": ".py",
   "mimetype": "text/x-python",
   "name": "python",
   "nbconvert_exporter": "python",
   "pygments_lexer": "ipython3",
   "version": "3.11.9"
  }
 },
 "nbformat": 4,
 "nbformat_minor": 5
}
