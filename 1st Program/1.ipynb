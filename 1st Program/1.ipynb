{
 "cells": [
  {
   "cell_type": "markdown",
   "id": "8bb57581",
   "metadata": {},
   "source": [
    "## 🚀 Program 1\n",
    "\n",
    "### 📋 Objective\n",
    "\n",
    "##### Implement and demonstrate the FIND-S algorithm for finding the most specific hypothesis based on a given set of training data samples. Read the training data from a .CSV file. \n"
   ]
  },
  {
   "cell_type": "code",
   "execution_count": null,
   "id": "1d75da53-bd65-4c04-8e3e-2d697d86329a",
   "metadata": {},
   "outputs": [
    {
     "name": "stderr",
     "output_type": "stream",
     "text": [
      "WARNING: Ignoring invalid distribution -orch (c:\\users\\poova\\appdata\\local\\programs\\python\\python310\\lib\\site-packages)\n",
      "WARNING: Ignoring invalid distribution -orch (c:\\users\\poova\\appdata\\local\\programs\\python\\python310\\lib\\site-packages)\n",
      "WARNING: Ignoring invalid distribution -orch (c:\\users\\poova\\appdata\\local\\programs\\python\\python310\\lib\\site-packages)\n"
     ]
    },
    {
     "name": "stdout",
     "output_type": "stream",
     "text": [
      "Requirement already satisfied: numpy in c:\\users\\poova\\appdata\\local\\programs\\python\\python310\\lib\\site-packages (2.2.5)\n",
      "Requirement already satisfied: pandas in c:\\users\\poova\\appdata\\local\\programs\\python\\python310\\lib\\site-packages (2.3.0)\n",
      "Requirement already satisfied: python-dateutil>=2.8.2 in c:\\users\\poova\\appdata\\local\\programs\\python\\python310\\lib\\site-packages (from pandas) (2.9.0.post0)\n",
      "Requirement already satisfied: pytz>=2020.1 in c:\\users\\poova\\appdata\\local\\programs\\python\\python310\\lib\\site-packages (from pandas) (2025.2)\n",
      "Requirement already satisfied: tzdata>=2022.7 in c:\\users\\poova\\appdata\\local\\programs\\python\\python310\\lib\\site-packages (from pandas) (2025.2)\n",
      "Requirement already satisfied: six>=1.5 in c:\\users\\poova\\appdata\\local\\programs\\python\\python310\\lib\\site-packages (from python-dateutil>=2.8.2->pandas) (1.17.0)\n"
     ]
    }
   ],
   "source": [
    "# Import necessary libraries\n",
    "import numpy as np\n",
    "import pandas as pd"
   ]
  },
  {
   "cell_type": "code",
   "execution_count": 7,
   "id": "7ce177b6-1ca8-4a89-b82c-047249fa1476",
   "metadata": {},
   "outputs": [
    {
     "name": "stdout",
     "output_type": "stream",
     "text": [
      "Training Data:\n",
      "\n",
      "     Sky AirTemp Humidity    Wind Water Forecast EnjoySport\n",
      "0  Sunny    Warm   Normal  Strong  Warm     Same        Yes\n",
      "1  Sunny    Warm     High  Strong  Warm     Same        Yes\n",
      "2  Rainy    Cold     High  Strong  Warm   Change         No\n",
      "3  Sunny    Warm     High  Strong  Cool   Change        Yes\n"
     ]
    }
   ],
   "source": [
    "# Step 1: Read CSV File\n",
    "filename = \"training_data.csv\"\n",
    "data = pd.read_csv(filename)\n",
    "print(\"Training Data:\\n\")\n",
    "print(data)"
   ]
  },
  {
   "cell_type": "code",
   "execution_count": null,
   "id": "ec88ea06-bf88-4303-adbe-82a331d7e02e",
   "metadata": {},
   "outputs": [],
   "source": [
    "# Step 2: FIND-S Algorithm\n",
    "def find_s_algorithm(df):\n",
    "    attributes = df.columns[:-1]\n",
    "    hypothesis = []\n",
    "\n",
    "    # Step 1: Find first positive example\n",
    "    for index, row in df.iterrows():\n",
    "        if row.iloc[-1].strip().lower() == 'yes':\n",
    "            hypothesis = list(row.iloc[:-1])\n",
    "            break\n",
    "\n",
    "    # Step 2: Generalize with other positive examples\n",
    "    for index, row in df.iterrows():\n",
    "        if row.iloc[-1].strip().lower() == 'yes':\n",
    "            for i in range(len(hypothesis)):\n",
    "                if row.iloc[i] != hypothesis[i]:\n",
    "                    hypothesis[i] = '?'\n",
    "\n",
    "    return hypothesis"
   ]
  },
  {
   "cell_type": "code",
   "execution_count": 9,
   "id": "20c47a9a-c41f-404d-b606-5d88c4022d10",
   "metadata": {},
   "outputs": [],
   "source": [
    "# Step 3: Run the Algorithm\n",
    "final_hypothesis = find_s_algorithm(data)"
   ]
  },
  {
   "cell_type": "code",
   "execution_count": 10,
   "id": "40034b2f-23d5-48d4-8e08-cb20de8a8644",
   "metadata": {},
   "outputs": [
    {
     "name": "stdout",
     "output_type": "stream",
     "text": [
      "\n",
      "Most Specific Hypothesis Found:\n",
      "['Sunny', 'Warm', '?', 'Strong', '?', '?']\n"
     ]
    }
   ],
   "source": [
    "# Step 4: Print Final Hypothesis\n",
    "print(\"\\nMost Specific Hypothesis Found:\")\n",
    "print(final_hypothesis)"
   ]
  }
 ],
 "metadata": {
  "kernelspec": {
   "display_name": "myenv",
   "language": "python",
   "name": "python3"
  },
  "language_info": {
   "codemirror_mode": {
    "name": "ipython",
    "version": 3
   },
   "file_extension": ".py",
   "mimetype": "text/x-python",
   "name": "python",
   "nbconvert_exporter": "python",
   "pygments_lexer": "ipython3",
   "version": "3.11.9"
  }
 },
 "nbformat": 4,
 "nbformat_minor": 5
}
