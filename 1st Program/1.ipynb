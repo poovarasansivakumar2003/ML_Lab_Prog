{
 "cells": [
  {
   "cell_type": "markdown",
   "id": "8bb57581",
   "metadata": {},
   "source": [
    "## 🚀 Program 1\n",
    "\n",
    "### 📋 Objective\n",
    "\n",
    "##### Implement and demonstrate the FIND-S algorithm for finding the most specific hypothesis based on a given set of training data samples. Read the training data from a .CSV file. "
   ]
  },
  {
   "cell_type": "code",
   "execution_count": 1,
   "id": "ca8fe6b7",
   "metadata": {},
   "outputs": [],
   "source": [
    "# Import necessary libraries\n",
    "import pandas as pd"
   ]
  },
  {
   "cell_type": "code",
   "execution_count": 2,
   "id": "7cd12ece",
   "metadata": {},
   "outputs": [],
   "source": [
    "# Load the dataset\n",
    "data = pd.read_csv(\"training_data.csv\")"
   ]
  },
  {
   "cell_type": "code",
   "execution_count": 3,
   "id": "99dbdff2",
   "metadata": {},
   "outputs": [],
   "source": [
    "# Function to find the most specific hypothesis using the Find-S algorithm\n",
    "def find_s(df):\n",
    "    for _, row in df.iterrows():\n",
    "        if row.iloc[-1].strip().lower() == 'yes':\n",
    "            hypo = list(row.iloc[:-1])\n",
    "            break\n",
    "    for _, row in df.iterrows():\n",
    "        if row.iloc[-1].strip().lower() == 'yes':\n",
    "            for i in range(len(hypo)):\n",
    "                if row.iloc[i] != hypo[i]:\n",
    "                    hypo[i] = '?'\n",
    "    return hypo"
   ]
  },
  {
   "cell_type": "code",
   "execution_count": 4,
   "id": "c3f63d92",
   "metadata": {},
   "outputs": [
    {
     "name": "stdout",
     "output_type": "stream",
     "text": [
      "Most Specific Hypothesis: ['Sunny', 'Warm', '?', 'Strong', '?', '?']\n"
     ]
    }
   ],
   "source": [
    "# Print the most specific hypothesis\n",
    "print(\"Most Specific Hypothesis:\", find_s(data))"
   ]
  }
 ],
 "metadata": {
  "kernelspec": {
   "display_name": "myenv",
   "language": "python",
   "name": "python3"
  },
  "language_info": {
   "codemirror_mode": {
    "name": "ipython",
    "version": 3
   },
   "file_extension": ".py",
   "mimetype": "text/x-python",
   "name": "python",
   "nbconvert_exporter": "python",
   "pygments_lexer": "ipython3",
   "version": "3.11.9"
  }
 },
 "nbformat": 4,
 "nbformat_minor": 5
}
