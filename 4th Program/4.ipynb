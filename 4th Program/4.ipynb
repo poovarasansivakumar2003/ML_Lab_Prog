{
 "cells": [
  {
   "cell_type": "markdown",
   "id": "8b513b9f",
   "metadata": {},
   "source": [
    "## 🚀 Program 4\n",
    "\n",
    "### 📋 Objective\n",
    "\n",
    "#####  Build an Artificial Neural Network by implementing the Backpropagation algorithm and test the same using appropriate datasets."
   ]
  },
  {
   "cell_type": "code",
   "execution_count": 1,
   "id": "74d686a5",
   "metadata": {},
   "outputs": [],
   "source": [
    "# Import necessary libraries\n",
    "from math import exp\n",
    "from random import random, seed\n",
    "from sklearn.datasets import load_iris\n",
    "from sklearn.preprocessing import MinMaxScaler"
   ]
  },
  {
   "cell_type": "code",
   "execution_count": 2,
   "id": "d2bd2cbb",
   "metadata": {},
   "outputs": [],
   "source": [
    "# Load and preprocess the Iris dataset\n",
    "iris = load_iris()"
   ]
  },
  {
   "cell_type": "code",
   "execution_count": 3,
   "id": "83188c80",
   "metadata": {},
   "outputs": [],
   "source": [
    "# Normalize the dataset\n",
    "X = MinMaxScaler().fit_transform(iris.data)\n",
    "y = iris.target"
   ]
  },
  {
   "cell_type": "code",
   "execution_count": 4,
   "id": "6ae3d373",
   "metadata": {},
   "outputs": [],
   "source": [
    "# Create a dataset combining features and labels\n",
    "data = [list(X[i]) + [y[i]] for i in range(len(y))]"
   ]
  },
  {
   "cell_type": "code",
   "execution_count": 5,
   "id": "0bdc70d1",
   "metadata": {},
   "outputs": [],
   "source": [
    "# Define the neural network initialization function\n",
    "def init_net(inputs, hidden, outputs):\n",
    "    return [\n",
    "        [{'w': [random() for _ in range(inputs+1)]} for _ in range(hidden)],\n",
    "        [{'w': [random() for _ in range(hidden+1)]} for _ in range(outputs)]\n",
    "    ]"
   ]
  },
  {
   "cell_type": "code",
   "execution_count": 6,
   "id": "c1f2a7a1",
   "metadata": {},
   "outputs": [],
   "source": [
    "# Define the activation function\n",
    "def activate(w, x): return w[-1] + sum(wi*xi for wi, xi in zip(w[:-1], x))"
   ]
  },
  {
   "cell_type": "code",
   "execution_count": 7,
   "id": "7e7959ad",
   "metadata": {},
   "outputs": [],
   "source": [
    "# Define the sigmoid activation function\n",
    "def sigmoid(a): return 1/(1+exp(-a))"
   ]
  },
  {
   "cell_type": "code",
   "execution_count": 8,
   "id": "a5c1d3d2",
   "metadata": {},
   "outputs": [],
   "source": [
    "# Function to forward pass through the network\n",
    "def forward(net, row):\n",
    "    for layer in net:\n",
    "        row = [sigmoid(activate(n['w'], row)) for n in layer]\n",
    "        for i, n in enumerate(layer): n['out'] = row[i]\n",
    "    return row"
   ]
  },
  {
   "cell_type": "code",
   "execution_count": 9,
   "id": "bdc33c1d",
   "metadata": {},
   "outputs": [],
   "source": [
    "# Define the sigmoid derivative function\n",
    "def sigmoid_deriv(o): return o*(1-o)"
   ]
  },
  {
   "cell_type": "code",
   "execution_count": 10,
   "id": "80d6881c",
   "metadata": {},
   "outputs": [],
   "source": [
    "# Function to backward pass through the network\n",
    "def backward(net, exp):\n",
    "    for i in reversed(range(len(net))):\n",
    "        layer = net[i]\n",
    "        if i == len(net)-1:\n",
    "            errs = [exp[j]-n['out'] for j, n in enumerate(layer)]\n",
    "        else:\n",
    "            errs = [sum(n['w'][j]*n['delta'] for n in net[i+1]) for j in range(len(layer))]\n",
    "        for j, n in enumerate(layer):\n",
    "            n['delta'] = errs[j]*sigmoid_deriv(n['out'])"
   ]
  },
  {
   "cell_type": "code",
   "execution_count": 11,
   "id": "b56a057e",
   "metadata": {},
   "outputs": [],
   "source": [
    "# Function to update the weights of the network\n",
    "def update(net, row, lr):\n",
    "    for i, layer in enumerate(net):\n",
    "        inp = row[:-1] if i==0 else [n['out'] for n in net[i-1]]\n",
    "        for n in layer:\n",
    "            for j in range(len(inp)):\n",
    "                n['w'][j] += lr*n['delta']*inp[j]\n",
    "            n['w'][-1] += lr*n['delta']"
   ]
  },
  {
   "cell_type": "code",
   "execution_count": 12,
   "id": "adc5a632",
   "metadata": {},
   "outputs": [],
   "source": [
    "# Function to train the neural network\n",
    "def train(net, data, lr, epochs, outputs):\n",
    "    for _ in range(epochs):\n",
    "        for row in data:\n",
    "            out = forward(net, row)\n",
    "            exp = [0]*outputs\n",
    "            exp[int(row[-1])] = 1\n",
    "            backward(net, exp)\n",
    "            update(net, row, lr)"
   ]
  },
  {
   "cell_type": "code",
   "execution_count": 13,
   "id": "ecc1a23a",
   "metadata": {},
   "outputs": [],
   "source": [
    "# Predict the class of a new input\n",
    "def predict(net, row): return forward(net, row).index(max(forward(net, row)))"
   ]
  },
  {
   "cell_type": "code",
   "execution_count": 14,
   "id": "0d7bafb3",
   "metadata": {},
   "outputs": [],
   "source": [
    "# Initialize the neural network parameters\n",
    "seed(1)\n",
    "n_inputs = len(data[0])-1\n",
    "n_outputs = len(set(row[-1] for row in data))"
   ]
  },
  {
   "cell_type": "code",
   "execution_count": 15,
   "id": "dc990743",
   "metadata": {},
   "outputs": [],
   "source": [
    "# Initialize the neural network\n",
    "net = init_net(n_inputs, 5, n_outputs)"
   ]
  },
  {
   "cell_type": "code",
   "execution_count": 16,
   "id": "aa7c8c30",
   "metadata": {},
   "outputs": [],
   "source": [
    "# Train the neural network\n",
    "train(net, data, 0.5, 50, n_outputs)"
   ]
  },
  {
   "cell_type": "code",
   "execution_count": 17,
   "id": "d1bfd7d0",
   "metadata": {},
   "outputs": [
    {
     "name": "stdout",
     "output_type": "stream",
     "text": [
      "Accuracy: 85.33%\n"
     ]
    }
   ],
   "source": [
    "# Evaluate the neural network's accuracy\n",
    "acc = sum(1 for row in data if predict(net, row)==row[-1])/len(data)*100\n",
    "print(f\"Accuracy: {acc:.2f}%\")"
   ]
  }
 ],
 "metadata": {
  "kernelspec": {
   "display_name": "myenv",
   "language": "python",
   "name": "python3"
  },
  "language_info": {
   "codemirror_mode": {
    "name": "ipython",
    "version": 3
   },
   "file_extension": ".py",
   "mimetype": "text/x-python",
   "name": "python",
   "nbconvert_exporter": "python",
   "pygments_lexer": "ipython3",
   "version": "3.11.9"
  }
 },
 "nbformat": 4,
 "nbformat_minor": 5
}
