{
 "cells": [
  {
   "cell_type": "markdown",
   "id": "8b513b9f",
   "metadata": {},
   "source": [
    "## 🚀 Program 4\n",
    "\n",
    "### 📋 Objective\n",
    "\n",
    "#####  Build an Artificial Neural Network by implementing the Backpropagation algorithm and test the same using appropriate datasets."
   ]
  },
  {
   "cell_type": "code",
   "execution_count": 26,
   "id": "883d6f41",
   "metadata": {},
   "outputs": [],
   "source": [
    "# Import necessary libraries\n",
    "from math import exp\n",
    "from random import random, seed\n",
    "from sklearn.datasets import load_iris\n",
    "from sklearn.preprocessing import MinMaxScaler"
   ]
  },
  {
   "cell_type": "code",
   "execution_count": 27,
   "id": "1dd323e7",
   "metadata": {},
   "outputs": [],
   "source": [
    "# Load and Prepare Dataset\n",
    "iris = load_iris()\n",
    "X, y = iris.data, iris.target"
   ]
  },
  {
   "cell_type": "code",
   "execution_count": 28,
   "id": "d12d9f98",
   "metadata": {},
   "outputs": [],
   "source": [
    "# Normalize features to [0,1]\n",
    "scaler = MinMaxScaler()\n",
    "X = scaler.fit_transform(X)"
   ]
  },
  {
   "cell_type": "code",
   "execution_count": 29,
   "id": "2c88a3df",
   "metadata": {},
   "outputs": [],
   "source": [
    "# Combine features and labels\n",
    "dataset = [list(X[i]) + [y[i]] for i in range(len(y))]"
   ]
  },
  {
   "cell_type": "code",
   "execution_count": 30,
   "id": "067cd41e",
   "metadata": {},
   "outputs": [],
   "source": [
    "def initialize_network(n_inputs, n_hidden, n_outputs):\n",
    "    return [\n",
    "        [{'weights': [random() for _ in range(n_inputs + 1)]} for _ in range(n_hidden)],\n",
    "        [{'weights': [random() for _ in range(n_hidden + 1)]} for _ in range(n_outputs)]\n",
    "    ]"
   ]
  },
  {
   "cell_type": "code",
   "execution_count": 31,
   "id": "77e35a17",
   "metadata": {},
   "outputs": [],
   "source": [
    "def activate(weights, inputs):\n",
    "    return weights[-1] + sum(w * i for w, i in zip(weights[:-1], inputs))"
   ]
  },
  {
   "cell_type": "code",
   "execution_count": 32,
   "id": "4d698f2a",
   "metadata": {},
   "outputs": [],
   "source": [
    "def transfer(activation):\n",
    "    return 1 / (1 + exp(-activation))"
   ]
  },
  {
   "cell_type": "code",
   "execution_count": 33,
   "id": "40ae4a88",
   "metadata": {},
   "outputs": [],
   "source": [
    "def forward_propagate(network, row):\n",
    "    inputs = row\n",
    "    for layer in network:\n",
    "        outputs = []\n",
    "        for neuron in layer:\n",
    "            activation = activate(neuron['weights'], inputs)\n",
    "            neuron['output'] = transfer(activation)\n",
    "            outputs.append(neuron['output'])\n",
    "        inputs = outputs\n",
    "    return inputs"
   ]
  },
  {
   "cell_type": "code",
   "execution_count": 34,
   "id": "741b923c",
   "metadata": {},
   "outputs": [],
   "source": [
    "def transfer_derivative(output):\n",
    "    return output * (1 - output)"
   ]
  },
  {
   "cell_type": "code",
   "execution_count": 35,
   "id": "f3a29b05",
   "metadata": {},
   "outputs": [],
   "source": [
    "def backward_propagate_error(network, expected):\n",
    "    for i in reversed(range(len(network))):\n",
    "        layer = network[i]\n",
    "        errors = []\n",
    "        if i != len(network) - 1:\n",
    "            for j in range(len(layer)):\n",
    "                error = sum(n['weights'][j] * n['delta'] for n in network[i + 1])\n",
    "                errors.append(error)\n",
    "        else:\n",
    "            for j in range(len(layer)):\n",
    "                neuron = layer[j]\n",
    "                errors.append(expected[j] - neuron['output'])\n",
    "\n",
    "        for j in range(len(layer)):\n",
    "            neuron = layer[j]\n",
    "            neuron['delta'] = errors[j] * transfer_derivative(neuron['output'])"
   ]
  },
  {
   "cell_type": "code",
   "execution_count": 36,
   "id": "76579cc6",
   "metadata": {},
   "outputs": [],
   "source": [
    "def update_weights(network, row, l_rate):\n",
    "    for i in range(len(network)):\n",
    "        inputs = row[:-1] if i == 0 else [n['output'] for n in network[i - 1]]\n",
    "        for neuron in network[i]:\n",
    "            for j in range(len(inputs)):\n",
    "                neuron['weights'][j] += l_rate * neuron['delta'] * inputs[j]\n",
    "            neuron['weights'][-1] += l_rate * neuron['delta']"
   ]
  },
  {
   "cell_type": "code",
   "execution_count": 37,
   "id": "dabdca5a",
   "metadata": {},
   "outputs": [],
   "source": [
    "def train_network(network, dataset, l_rate, n_epoch, n_outputs):\n",
    "    for epoch in range(n_epoch):\n",
    "        sum_error = 0\n",
    "        for row in dataset:\n",
    "            outputs = forward_propagate(network, row)\n",
    "            expected = [0] * n_outputs\n",
    "            expected[int(row[-1])] = 1\n",
    "            sum_error += sum((expected[i] - outputs[i]) ** 2 for i in range(n_outputs))\n",
    "            backward_propagate_error(network, expected)\n",
    "            update_weights(network, row, l_rate)\n",
    "        print(f\">epoch={epoch}, error={sum_error:.3f}\")"
   ]
  },
  {
   "cell_type": "code",
   "execution_count": 38,
   "id": "e0bd14e0",
   "metadata": {},
   "outputs": [],
   "source": [
    "def predict(network, row):\n",
    "    outputs = forward_propagate(network, row)\n",
    "    return outputs.index(max(outputs))"
   ]
  },
  {
   "cell_type": "code",
   "execution_count": 39,
   "id": "001b69e7",
   "metadata": {},
   "outputs": [
    {
     "name": "stdout",
     "output_type": "stream",
     "text": [
      ">epoch=0, error=54.199\n",
      ">epoch=1, error=55.732\n",
      ">epoch=2, error=54.053\n",
      ">epoch=3, error=51.388\n",
      ">epoch=4, error=48.115\n",
      ">epoch=5, error=44.869\n",
      ">epoch=6, error=42.146\n",
      ">epoch=7, error=40.132\n",
      ">epoch=8, error=38.837\n",
      ">epoch=9, error=38.150\n",
      ">epoch=10, error=37.790\n",
      ">epoch=11, error=37.497\n",
      ">epoch=12, error=37.160\n",
      ">epoch=13, error=36.749\n",
      ">epoch=14, error=36.249\n",
      ">epoch=8, error=38.837\n",
      ">epoch=9, error=38.150\n",
      ">epoch=10, error=37.790\n",
      ">epoch=11, error=37.497\n",
      ">epoch=12, error=37.160\n",
      ">epoch=13, error=36.749\n",
      ">epoch=14, error=36.249\n"
     ]
    },
    {
     "name": "stdout",
     "output_type": "stream",
     "text": [
      ">epoch=0, error=54.199\n",
      ">epoch=1, error=55.732\n",
      ">epoch=2, error=54.053\n",
      ">epoch=3, error=51.388\n",
      ">epoch=4, error=48.115\n",
      ">epoch=5, error=44.869\n",
      ">epoch=6, error=42.146\n",
      ">epoch=7, error=40.132\n",
      ">epoch=8, error=38.837\n",
      ">epoch=9, error=38.150\n",
      ">epoch=10, error=37.790\n",
      ">epoch=11, error=37.497\n",
      ">epoch=12, error=37.160\n",
      ">epoch=13, error=36.749\n",
      ">epoch=14, error=36.249\n",
      ">epoch=8, error=38.837\n",
      ">epoch=9, error=38.150\n",
      ">epoch=10, error=37.790\n",
      ">epoch=11, error=37.497\n",
      ">epoch=12, error=37.160\n",
      ">epoch=13, error=36.749\n",
      ">epoch=14, error=36.249\n"
     ]
    },
    {
     "name": "stdout",
     "output_type": "stream",
     "text": [
      ">epoch=15, error=35.644\n",
      ">epoch=16, error=34.891\n",
      ">epoch=17, error=33.929\n",
      ">epoch=18, error=32.680\n",
      ">epoch=19, error=31.089\n",
      ">epoch=20, error=29.160\n",
      ">epoch=21, error=26.976\n",
      ">epoch=22, error=24.674\n",
      ">epoch=23, error=22.387\n",
      ">epoch=24, error=20.210\n",
      ">epoch=25, error=18.199\n",
      ">epoch=26, error=16.379\n",
      ">epoch=27, error=14.754\n",
      ">epoch=28, error=13.319\n",
      ">epoch=29, error=12.061\n",
      ">epoch=30, error=10.964\n",
      ">epoch=31, error=10.011\n",
      ">epoch=32, error=9.185\n",
      ">epoch=33, error=8.469\n",
      ">epoch=34, error=7.848\n",
      ">epoch=35, error=7.309\n",
      ">epoch=36, error=6.839\n",
      ">epoch=37, error=6.429\n",
      ">epoch=38, error=6.069\n",
      ">epoch=39, error=5.751\n",
      ">epoch=40, error=5.469\n",
      ">epoch=41, error=5.218\n",
      ">epoch=42, error=4.992\n",
      ">epoch=43, error=4.789\n",
      ">epoch=44, error=4.605\n",
      ">epoch=45, error=4.437\n",
      ">epoch=46, error=4.284\n",
      ">epoch=47, error=4.144\n",
      ">epoch=48, error=4.016\n",
      ">epoch=49, error=3.897\n",
      "\n",
      "Network trained on Iris dataset.\n",
      ">epoch=25, error=18.199\n",
      ">epoch=26, error=16.379\n",
      ">epoch=27, error=14.754\n",
      ">epoch=28, error=13.319\n",
      ">epoch=29, error=12.061\n",
      ">epoch=30, error=10.964\n",
      ">epoch=31, error=10.011\n",
      ">epoch=32, error=9.185\n",
      ">epoch=33, error=8.469\n",
      ">epoch=34, error=7.848\n",
      ">epoch=35, error=7.309\n",
      ">epoch=36, error=6.839\n",
      ">epoch=37, error=6.429\n",
      ">epoch=38, error=6.069\n",
      ">epoch=39, error=5.751\n",
      ">epoch=40, error=5.469\n",
      ">epoch=41, error=5.218\n",
      ">epoch=42, error=4.992\n",
      ">epoch=43, error=4.789\n",
      ">epoch=44, error=4.605\n",
      ">epoch=45, error=4.437\n",
      ">epoch=46, error=4.284\n",
      ">epoch=47, error=4.144\n",
      ">epoch=48, error=4.016\n",
      ">epoch=49, error=3.897\n",
      "\n",
      "Network trained on Iris dataset.\n"
     ]
    }
   ],
   "source": [
    "# Run with Iris Data\n",
    "seed(1)\n",
    "n_inputs = len(dataset[0]) - 1\n",
    "n_outputs = len(set(row[-1] for row in dataset))\n",
    "network = initialize_network(n_inputs, n_hidden=5, n_outputs=n_outputs)\n",
    "train_network(network, dataset, l_rate=0.5, n_epoch=50, n_outputs=n_outputs)\n",
    "print(\"\\nNetwork trained on Iris dataset.\")"
   ]
  },
  {
   "cell_type": "code",
   "execution_count": 40,
   "id": "9c9ef25b",
   "metadata": {},
   "outputs": [
    {
     "name": "stdout",
     "output_type": "stream",
     "text": [
      "Accuracy: 85.33%\n"
     ]
    }
   ],
   "source": [
    "correct = 0\n",
    "for row in dataset:\n",
    "    if predict(network, row) == row[-1]:\n",
    "        correct += 1\n",
    "print(f\"Accuracy: {correct / len(dataset) * 100:.2f}%\")"
   ]
  }
 ],
 "metadata": {
  "kernelspec": {
   "display_name": "myenv",
   "language": "python",
   "name": "python3"
  },
  "language_info": {
   "codemirror_mode": {
    "name": "ipython",
    "version": 3
   },
   "file_extension": ".py",
   "mimetype": "text/x-python",
   "name": "python",
   "nbconvert_exporter": "python",
   "pygments_lexer": "ipython3",
   "version": "3.11.9"
  }
 },
 "nbformat": 4,
 "nbformat_minor": 5
}
