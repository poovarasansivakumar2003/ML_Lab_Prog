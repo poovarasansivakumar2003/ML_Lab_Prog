{
 "cells": [
  {
   "cell_type": "markdown",
   "id": "bd2086f1",
   "metadata": {},
   "source": [
    "## 🚀 Program 5\n",
    "\n",
    "### 📋 Objective\n",
    "\n",
    "#####  Write a program to implement the **Naive Bayesian Classifier** for a sample training dataset stored as a .CSV file. Compute the accuracy of the classifier, considering few test datasets."
   ]
  },
  {
   "cell_type": "code",
   "execution_count": 5,
   "id": "b53cac9c",
   "metadata": {},
   "outputs": [],
   "source": [
    "# Import necessary libraries\n",
    "import pandas as pd\n",
    "import math\n",
    "from sklearn.model_selection import train_test_split"
   ]
  },
  {
   "cell_type": "code",
   "execution_count": 6,
   "id": "b8c29129",
   "metadata": {},
   "outputs": [],
   "source": [
    "# Load and Prepare Dataset\n",
    "df = pd.read_csv(\"sample_data.csv\")\n",
    "X = df.iloc[:, :-1].values\n",
    "y = df.iloc[:, -1].values\n",
    "X_train, X_test, y_train, y_test = train_test_split(X, y, test_size=0.3, random_state=1)"
   ]
  },
  {
   "cell_type": "code",
   "execution_count": 7,
   "id": "5a332839",
   "metadata": {},
   "outputs": [],
   "source": [
    "def summarize(X, y):\n",
    "    result = {}\n",
    "    for c in set(y):\n",
    "        rows = [X[i] for i in range(len(X)) if y[i] == c]\n",
    "        result[c] = [(sum(col)/len(col), math.sqrt(sum((x - sum(col)/len(col))**2 for x in col)/(len(col)-1))) for col in zip(*rows)]\n",
    "    return result"
   ]
  },
  {
   "cell_type": "code",
   "execution_count": 8,
   "id": "9426209c",
   "metadata": {},
   "outputs": [],
   "source": [
    "def gaussian(x, mean, stdev):\n",
    "    if stdev == 0: return 1 if x == mean else 0\n",
    "    exp_part = math.exp(-((x - mean)**2) / (2 * stdev**2))\n",
    "    return (1 / (math.sqrt(2 * math.pi) * stdev)) * exp_part"
   ]
  },
  {
   "cell_type": "code",
   "execution_count": 9,
   "id": "5a98cba0",
   "metadata": {},
   "outputs": [],
   "source": [
    "def predict(summ, row):\n",
    "    probs = {}\n",
    "    for c, stats in summ.items():\n",
    "        probs[c] = 1\n",
    "        for i, (mean, stdev) in enumerate(stats):\n",
    "            probs[c] *= gaussian(row[i], mean, stdev)\n",
    "    return max(probs, key=probs.get)"
   ]
  },
  {
   "cell_type": "code",
   "execution_count": 10,
   "id": "63b4d5f8",
   "metadata": {},
   "outputs": [
    {
     "name": "stdout",
     "output_type": "stream",
     "text": [
      "Accuracy on test data: 40.00%\n"
     ]
    }
   ],
   "source": [
    "# Run the Program\n",
    "summ = summarize(X_train, y_train)\n",
    "preds = [predict(summ, row) for row in X_test]\n",
    "acc = sum(1 for i in range(len(y_test)) if y_test[i] == preds[i]) / len(y_test) * 100\n",
    "print(f\"Accuracy on test data: {acc:.2f}%\")"
   ]
  }
 ],
 "metadata": {
  "kernelspec": {
   "display_name": "myenv",
   "language": "python",
   "name": "python3"
  },
  "language_info": {
   "codemirror_mode": {
    "name": "ipython",
    "version": 3
   },
   "file_extension": ".py",
   "mimetype": "text/x-python",
   "name": "python",
   "nbconvert_exporter": "python",
   "pygments_lexer": "ipython3",
   "version": "3.11.9"
  }
 },
 "nbformat": 4,
 "nbformat_minor": 5
}
