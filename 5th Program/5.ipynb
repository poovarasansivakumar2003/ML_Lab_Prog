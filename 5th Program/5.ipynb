{
 "cells": [
  {
   "cell_type": "markdown",
   "id": "bd2086f1",
   "metadata": {},
   "source": [
    "## 🚀 Program 5\n",
    "\n",
    "### 📋 Objective\n",
    "\n",
    "#####  Write a program to implement the **Naive Bayesian Classifier** for a sample training dataset stored as a .CSV file. Compute the accuracy of the classifier, considering few test datasets. Assuming a set of documents that need to be classified, use the Naive Bayesian Classifier model to perform this task. Built-in Java classes/API can be used to write the program. Calculate the accuracy, precision, and recall for your dataset."
   ]
  },
  {
   "cell_type": "code",
   "execution_count": 1,
   "id": "320a8f85",
   "metadata": {},
   "outputs": [],
   "source": [
    "# Import necessary libraries\n",
    "import pandas as pd, math\n",
    "from sklearn.model_selection import train_test_split\n",
    "from sklearn.metrics import accuracy_score, precision_score, recall_score"
   ]
  },
  {
   "cell_type": "code",
   "execution_count": 2,
   "id": "ff61cbb4",
   "metadata": {},
   "outputs": [],
   "source": [
    "# Load the dataset\n",
    "df = pd.read_csv(\"sample_data.csv\")"
   ]
  },
  {
   "cell_type": "code",
   "execution_count": 3,
   "id": "3c2321cf",
   "metadata": {},
   "outputs": [],
   "source": [
    "# Split the dataset into features and labels\n",
    "X = df.iloc[:, :-1].values\n",
    "y = df.iloc[:, -1].values"
   ]
  },
  {
   "cell_type": "code",
   "execution_count": 4,
   "id": "626c145b",
   "metadata": {},
   "outputs": [],
   "source": [
    "# Split the dataset into training and testing sets\n",
    "X_train, X_test, y_train, y_test = train_test_split(X, y, test_size=0.3, random_state=1)"
   ]
  },
  {
   "cell_type": "code",
   "execution_count": 5,
   "id": "317ae764",
   "metadata": {},
   "outputs": [],
   "source": [
    "# Function to calculate the Gaussian probability density function\n",
    "def summarize(X, y):\n",
    "    return {c: [(sum(col)/len(col), math.sqrt(sum((x-sum(col)/len(col))**2 for x in col)/(len(col)-1))) \n",
    "            for col in zip(*[X[i] for i in range(len(X)) if y[i]==c])] for c in set(y)}"
   ]
  },
  {
   "cell_type": "code",
   "execution_count": 6,
   "id": "6afc644d",
   "metadata": {},
   "outputs": [],
   "source": [
    "# Function to calculate the Gaussian probability density function\n",
    "def gaussian(x, mean, stdev):\n",
    "    if stdev == 0: return 1 if x == mean else 0\n",
    "    return (1/(math.sqrt(2*math.pi)*stdev))*math.exp(-((x-mean)**2)/(2*stdev**2))"
   ]
  },
  {
   "cell_type": "code",
   "execution_count": 7,
   "id": "5b5e8c8e",
   "metadata": {},
   "outputs": [],
   "source": [
    "# Function to predict the class label for a new instance using the Gaussian Naive Bayes algorithm\n",
    "def predict(summ, row):\n",
    "    probs = {c: math.prod([gaussian(row[i], m, s) for i, (m, s) in enumerate(stats)]) for c, stats in summ.items()}\n",
    "    return max(probs, key=probs.get)"
   ]
  },
  {
   "cell_type": "code",
   "execution_count": 8,
   "id": "12e3a218",
   "metadata": {},
   "outputs": [],
   "source": [
    "# Summarize the training data\n",
    "summ = summarize(X_train, y_train)"
   ]
  },
  {
   "cell_type": "code",
   "execution_count": 9,
   "id": "be4b1448",
   "metadata": {},
   "outputs": [],
   "source": [
    "# Predicting the class labels for the test set\n",
    "preds = [predict(summ, row) for row in X_test]"
   ]
  },
  {
   "cell_type": "code",
   "execution_count": 10,
   "id": "9882b6cb",
   "metadata": {},
   "outputs": [
    {
     "name": "stdout",
     "output_type": "stream",
     "text": [
      "Accuracy: 40.00%\n",
      "Precision: 0.67\n",
      "Recall: 0.50\n"
     ]
    }
   ],
   "source": [
    "# Calculate accuracy, precision, and recall\n",
    "print(f\"Accuracy: {accuracy_score(y_test, preds)*100:.2f}%\")\n",
    "print(f\"Precision: {precision_score(y_test, preds, pos_label='Yes', average='binary'):.2f}\")\n",
    "print(f\"Recall: {recall_score(y_test, preds, pos_label='Yes', average='binary'):.2f}\")"
   ]
  }
 ],
 "metadata": {
  "kernelspec": {
   "display_name": "myenv",
   "language": "python",
   "name": "python3"
  },
  "language_info": {
   "codemirror_mode": {
    "name": "ipython",
    "version": 3
   },
   "file_extension": ".py",
   "mimetype": "text/x-python",
   "name": "python",
   "nbconvert_exporter": "python",
   "pygments_lexer": "ipython3",
   "version": "3.11.9"
  }
 },
 "nbformat": 4,
 "nbformat_minor": 5
}
