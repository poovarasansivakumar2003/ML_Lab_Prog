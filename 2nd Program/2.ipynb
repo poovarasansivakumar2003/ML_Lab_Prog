{
 "cells": [
  {
   "cell_type": "markdown",
   "id": "8a3daba8",
   "metadata": {},
   "source": [
    "## 🚀 Program 2\n",
    "\n",
    "### 📋 Objective\n",
    "\n",
    "##### For a given set of training data examples stored in a .CSV file, implement and demonstrate the Candidate-Elimination algorithm to output a description of the set of all hypotheses consistent with the training examples. "
   ]
  },
  {
   "cell_type": "code",
   "execution_count": 8,
   "id": "b3969092",
   "metadata": {},
   "outputs": [],
   "source": [
    "# Import necessary libraries\n",
    "import pandas as pd"
   ]
  },
  {
   "cell_type": "code",
   "execution_count": 9,
   "id": "312ccf33",
   "metadata": {},
   "outputs": [],
   "source": [
    "# Load the training data\n",
    "data = pd.read_csv(\"training_data.csv\")"
   ]
  },
  {
   "cell_type": "code",
   "execution_count": 10,
   "id": "6137b4ff",
   "metadata": {},
   "outputs": [],
   "source": [
    "# Extract features and labels\n",
    "X = data.iloc[:, :-1].values.tolist()\n",
    "y = data.iloc[:, -1].values.tolist()"
   ]
  },
  {
   "cell_type": "code",
   "execution_count": 11,
   "id": "9a630979",
   "metadata": {},
   "outputs": [],
   "source": [
    "# Function to implement the Candidate Elimination algorithm\n",
    "def candidate_elimination(X, y):\n",
    "    S = X[0][:]\n",
    "    G = [['?' for _ in S]]\n",
    "    for i, x in enumerate(X):\n",
    "        if y[i].lower() == 'yes':\n",
    "            for j in range(len(S)):\n",
    "                if S[j] != x[j]:\n",
    "                    S[j] = '?'\n",
    "            G = [g for g in G if all(g[j] == '?' or g[j] == S[j] for j in range(len(S)))]\n",
    "        else:\n",
    "            new_G = []\n",
    "            for g in G:\n",
    "                for j in range(len(S)):\n",
    "                    if S[j] != x[j]:\n",
    "                        g_new = g[:]\n",
    "                        g_new[j] = S[j]\n",
    "                        if g_new not in new_G:\n",
    "                            new_G.append(g_new)\n",
    "            G = new_G\n",
    "    return S, G"
   ]
  },
  {
   "cell_type": "code",
   "execution_count": 12,
   "id": "18ec1316",
   "metadata": {},
   "outputs": [],
   "source": [
    "# Execute the Candidate Elimination algorithm\n",
    "S_final, G_final = candidate_elimination(X, y)"
   ]
  },
  {
   "cell_type": "code",
   "execution_count": 13,
   "id": "536afe6e",
   "metadata": {},
   "outputs": [
    {
     "name": "stdout",
     "output_type": "stream",
     "text": [
      "Final Specific Hypothesis: ['Sunny', 'Warm', '?', 'Strong', '?', '?']\n",
      "Final General Hypotheses: [['Sunny', '?', '?', '?', '?', '?'], ['?', 'Warm', '?', '?', '?', '?'], ['?', '?', '?', '?', '?', '?']]\n"
     ]
    }
   ],
   "source": [
    "# Print the final specific and general hypotheses\n",
    "print(\"Final Specific Hypothesis:\", S_final)\n",
    "print(\"Final General Hypotheses:\", G_final)"
   ]
  }
 ],
 "metadata": {
  "kernelspec": {
   "display_name": "myenv",
   "language": "python",
   "name": "python3"
  },
  "language_info": {
   "codemirror_mode": {
    "name": "ipython",
    "version": 3
   },
   "file_extension": ".py",
   "mimetype": "text/x-python",
   "name": "python",
   "nbconvert_exporter": "python",
   "pygments_lexer": "ipython3",
   "version": "3.11.9"
  }
 },
 "nbformat": 4,
 "nbformat_minor": 5
}
