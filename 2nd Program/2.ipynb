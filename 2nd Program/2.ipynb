{
 "cells": [
  {
   "cell_type": "markdown",
   "id": "8a3daba8",
   "metadata": {},
   "source": [
    "## 🚀 Program 2\n",
    "\n",
    "### 📋 Objective\n",
    "\n",
    "##### For a given set of training data examples stored in a.CSV file, implement and demonstrate the Candidate-Elimination algorithm to output a description of the set of all hypotheses consistent with the training examples. "
   ]
  },
  {
   "cell_type": "code",
   "execution_count": 7,
   "id": "379735ef",
   "metadata": {},
   "outputs": [
    {
     "name": "stdout",
     "output_type": "stream",
     "text": [
      "Requirement already satisfied: pandas in c:\\users\\poova\\appdata\\local\\programs\\python\\python310\\lib\\site-packages (2.3.0)\n",
      "Requirement already satisfied: numpy>=1.22.4 in c:\\users\\poova\\appdata\\local\\programs\\python\\python310\\lib\\site-packages (from pandas) (2.2.5)\n",
      "Requirement already satisfied: python-dateutil>=2.8.2 in c:\\users\\poova\\appdata\\local\\programs\\python\\python310\\lib\\site-packages (from pandas) (2.9.0.post0)\n",
      "Requirement already satisfied: pytz>=2020.1 in c:\\users\\poova\\appdata\\local\\programs\\python\\python310\\lib\\site-packages (from pandas) (2025.2)\n",
      "Requirement already satisfied: tzdata>=2022.7 in c:\\users\\poova\\appdata\\local\\programs\\python\\python310\\lib\\site-packages (from pandas) (2025.2)\n",
      "Requirement already satisfied: six>=1.5 in c:\\users\\poova\\appdata\\local\\programs\\python\\python310\\lib\\site-packages (from python-dateutil>=2.8.2->pandas) (1.17.0)\n"
     ]
    },
    {
     "name": "stderr",
     "output_type": "stream",
     "text": [
      "WARNING: Ignoring invalid distribution -orch (c:\\users\\poova\\appdata\\local\\programs\\python\\python310\\lib\\site-packages)\n",
      "WARNING: Ignoring invalid distribution -orch (c:\\users\\poova\\appdata\\local\\programs\\python\\python310\\lib\\site-packages)\n",
      "WARNING: Ignoring invalid distribution -orch (c:\\users\\poova\\appdata\\local\\programs\\python\\python310\\lib\\site-packages)\n"
     ]
    }
   ],
   "source": [
    "!pip install pandas\n",
    "import pandas as pd"
   ]
  },
  {
   "cell_type": "code",
   "execution_count": 2,
   "id": "f75d53f3",
   "metadata": {},
   "outputs": [],
   "source": [
    "def load_data(filename):\n",
    "    df = pd.read_csv(filename)\n",
    "    concepts = df.iloc[:, :-1].values.tolist()\n",
    "    target = df.iloc[:, -1].values.tolist()\n",
    "    return concepts, target"
   ]
  },
  {
   "cell_type": "code",
   "execution_count": null,
   "id": "45d70bd8",
   "metadata": {},
   "outputs": [],
   "source": [
    "def candidate_elimination(concepts, target):\n",
    "    specific_h = concepts[0].copy()\n",
    "    general_h = [['?' for _ in range(len(specific_h))] for _ in range(len(specific_h))]\n",
    "\n",
    "    print(\"Initial Specific Hypothesis:\", specific_h)\n",
    "    print(\"Initial General Hypothesis:\", general_h)\n",
    "\n",
    "    for i, h in enumerate(concepts):\n",
    "        if target[i].lower() == 'yes':\n",
    "            for x in range(len(specific_h)):\n",
    "                if h[x] != specific_h[x]:\n",
    "                    specific_h[x] = '?'\n",
    "                    general_h[x][x] = '?'\n",
    "        elif target[i].lower() == 'no':\n",
    "            for x in range(len(specific_h)):\n",
    "                if h[x] != specific_h[x]:\n",
    "                    general_h[x][x] = specific_h[x]\n",
    "                else:\n",
    "                    general_h[x][x] = '?'\n",
    "        print(f\"\\nStep {i+1}:\")\n",
    "        print(\"Specific Hypothesis:\", specific_h)\n",
    "        print(\"General Hypothesis:\")\n",
    "        for gh in general_h:\n",
    "            print(gh)\n",
    "\n",
    "    # Remove the overly general hypotheses\n",
    "    general_h = [gh for gh in general_h if gh != ['?' for _ in range(len(specific_h))]]\n",
    "    return specific_h, general_h"
   ]
  },
  {
   "cell_type": "code",
   "execution_count": null,
   "id": "d70f938f",
   "metadata": {},
   "outputs": [],
   "source": [
    "# Load data from CSV\n",
    "concepts, target = load_data(\"training_data.csv\")"
   ]
  },
  {
   "cell_type": "code",
   "execution_count": null,
   "id": "b91151ba",
   "metadata": {},
   "outputs": [
    {
     "name": "stdout",
     "output_type": "stream",
     "text": [
      "Initial Specific Hypothesis: ['Sunny', 'Warm', 'Normal', 'Strong', 'Warm', 'Same']\n",
      "Initial General Hypothesis: [['?', '?', '?', '?', '?', '?'], ['?', '?', '?', '?', '?', '?'], ['?', '?', '?', '?', '?', '?'], ['?', '?', '?', '?', '?', '?'], ['?', '?', '?', '?', '?', '?'], ['?', '?', '?', '?', '?', '?']]\n",
      "\n",
      "Step 1:\n",
      "Specific Hypothesis: ['Sunny', 'Warm', 'Normal', 'Strong', 'Warm', 'Same']\n",
      "General Hypothesis:\n",
      "['?', '?', '?', '?', '?', '?']\n",
      "['?', '?', '?', '?', '?', '?']\n",
      "['?', '?', '?', '?', '?', '?']\n",
      "['?', '?', '?', '?', '?', '?']\n",
      "['?', '?', '?', '?', '?', '?']\n",
      "['?', '?', '?', '?', '?', '?']\n",
      "\n",
      "Step 2:\n",
      "Specific Hypothesis: ['Sunny', 'Warm', '?', 'Strong', 'Warm', 'Same']\n",
      "General Hypothesis:\n",
      "['?', '?', '?', '?', '?', '?']\n",
      "['?', '?', '?', '?', '?', '?']\n",
      "['?', '?', '?', '?', '?', '?']\n",
      "['?', '?', '?', '?', '?', '?']\n",
      "['?', '?', '?', '?', '?', '?']\n",
      "['?', '?', '?', '?', '?', '?']\n",
      "\n",
      "Step 3:\n",
      "Specific Hypothesis: ['Sunny', 'Warm', '?', 'Strong', 'Warm', 'Same']\n",
      "General Hypothesis:\n",
      "['Sunny', '?', '?', '?', '?', '?']\n",
      "['?', 'Warm', '?', '?', '?', '?']\n",
      "['?', '?', '?', '?', '?', '?']\n",
      "['?', '?', '?', '?', '?', '?']\n",
      "['?', '?', '?', '?', '?', '?']\n",
      "['?', '?', '?', '?', '?', 'Same']\n",
      "\n",
      "Step 4:\n",
      "Specific Hypothesis: ['Sunny', 'Warm', '?', 'Strong', '?', '?']\n",
      "General Hypothesis:\n",
      "['Sunny', '?', '?', '?', '?', '?']\n",
      "['?', 'Warm', '?', '?', '?', '?']\n",
      "['?', '?', '?', '?', '?', '?']\n",
      "['?', '?', '?', '?', '?', '?']\n",
      "['?', '?', '?', '?', '?', '?']\n",
      "['?', '?', '?', '?', '?', '?']\n"
     ]
    }
   ],
   "source": [
    "# Apply Candidate Elimination\n",
    "s_final, g_final = candidate_elimination(concepts, target)"
   ]
  },
  {
   "cell_type": "code",
   "execution_count": null,
   "id": "9918aad2",
   "metadata": {},
   "outputs": [
    {
     "name": "stdout",
     "output_type": "stream",
     "text": [
      "\n",
      "Final Specific Hypothesis:\n",
      "['Sunny', 'Warm', '?', 'Strong', '?', '?']\n",
      "\n",
      "Final General Hypotheses:\n",
      "['Sunny', '?', '?', '?', '?', '?']\n",
      "['?', 'Warm', '?', '?', '?', '?']\n"
     ]
    }
   ],
   "source": [
    "# Display final output\n",
    "print(\"\\nFinal Specific Hypothesis:\")\n",
    "print(s_final)\n",
    "print(\"\\nFinal General Hypotheses:\")\n",
    "for g in g_final:\n",
    "    print(g)"
   ]
  }
 ],
 "metadata": {
  "kernelspec": {
   "display_name": "Python 3",
   "language": "python",
   "name": "python3"
  },
  "language_info": {
   "codemirror_mode": {
    "name": "ipython",
    "version": 3
   },
   "file_extension": ".py",
   "mimetype": "text/x-python",
   "name": "python",
   "nbconvert_exporter": "python",
   "pygments_lexer": "ipython3",
   "version": "3.10.0"
  }
 },
 "nbformat": 4,
 "nbformat_minor": 5
}
